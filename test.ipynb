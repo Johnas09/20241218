{
 "cells": [
  {
   "cell_type": "code",
   "execution_count": 5,
   "metadata": {},
   "outputs": [
    {
     "name": "stdout",
     "output_type": "stream",
     "text": [
      "2024 12 18 Wed, Freezing day\n",
      "TODAY SUMMARY:\n",
      "Learning IDE- Integrated Developer Environment\n",
      "for studying AI\n",
      "3rd day of education program.\n",
      "I had pizza for day\n",
      "=============================================\n",
      "Total: Nice Day\n"
     ]
    }
   ],
   "source": [
    "print('2024 12 18 Wed, Freezing day')\n",
    "print('TODAY SUMMARY:')\n",
    "print('Learning IDE- Integrated Developer Environment')\n",
    "print('for studying AI')\n",
    "print('3rd day of education program.')\n",
    "print('I had pizza for day')\n",
    "print('=============================================')\n",
    "print('Total: Nice Day')"
   ]
  }
 ],
 "metadata": {
  "kernelspec": {
   "display_name": "Python 3",
   "language": "python",
   "name": "python3"
  },
  "language_info": {
   "codemirror_mode": {
    "name": "ipython",
    "version": 3
   },
   "file_extension": ".py",
   "mimetype": "text/x-python",
   "name": "python",
   "nbconvert_exporter": "python",
   "pygments_lexer": "ipython3",
   "version": "3.13.1"
  }
 },
 "nbformat": 4,
 "nbformat_minor": 2
}
